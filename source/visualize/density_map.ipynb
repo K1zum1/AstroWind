{
 "cells": [
  {
   "cell_type": "code",
   "execution_count": null,
   "metadata": {},
   "outputs": [],
   "source": [
    "import numpy as np\n",
    "import matplotlib.pyplot as plt\n",
    "import matplotlib as mpl\n",
    "from scipy.interpolate import griddata\n",
    "\n",
    "def grid(x, xmin, xmax, y, ymin, ymax, z, resX=1000, resY=1000):\n",
    "    xi = np.linspace(xmin, xmax, resX)\n",
    "    yi = np.linspace(ymin, ymax, resY)\n",
    "    Z = griddata((x, y), z, (xi[None, :], yi[:, None]), method='linear')\n",
    "    X, Y = np.meshgrid(xi, yi)\n",
    "    return X, Y, Z\n",
    "\n",
    "mpl.rc('image', cmap='jet')\n",
    "plt.rcParams[\"figure.figsize\"] = (15, 6)\n",
    "\n",
    "density_data = np.loadtxt('wind_density_output.csv', delimiter=',', skiprows=1)\n",
    "density_data = density_data.reshape((64, 64, 64))\n",
    "\n",
    "xpos = np.linspace(0, 64, 64)  \n",
    "ypos = np.linspace(0, 64, 64)\n",
    "xpos, ypos = np.meshgrid(xpos, ypos)\n",
    "\n",
    "levels = np.logspace(np.log10(density_data.min()+1), np.log10(density_data.max()), num=50)\n",
    "\n",
    "plots_per_row = 4\n",
    "num_slices = density_data.shape[2]\n",
    "num_rows = (num_slices + plots_per_row - 1) // plots_per_row\n",
    "\n",
    "fig, axes = plt.subplots(num_rows, plots_per_row, figsize=(20, 5 * num_rows))\n",
    "\n",
    "for z_slice_index in range(num_slices):\n",
    "    row = z_slice_index // plots_per_row\n",
    "    col = z_slice_index % plots_per_row\n",
    "    \n",
    "    density_slice = np.log10(density_data[:, :, z_slice_index] + 1)\n",
    "    X, Y, Z = grid(xpos.flatten(), xpos.min(), xpos.max(), ypos.flatten(), ypos.min(), ypos.max(), density_slice.flatten())\n",
    "    \n",
    "    ax = axes[row, col]\n",
    "    im = ax.imshow(Z, extent=(xpos.min(), xpos.max(), ypos.min(), ypos.max()), aspect='auto', origin='lower')\n",
    "    ax.set_title(f'Z = {z_slice_index}')\n",
    "    ax.axis('on')  \n",
    "\n",
    "fig.subplots_adjust(right=0.8)\n",
    "cbar_ax = fig.add_axes([0.85, 0.15, 0.05, 0.7])\n",
    "fig.colorbar(im, cax=cbar_ax)\n",
    "\n",
    "# plt.savefig(\"wind_density_visualization.png\", dpi=300)  # This line is commented out to prevent saving\n",
    "\n",
    "plt.show()\n"
   ]
  }
 ],
 "metadata": {
  "kernelspec": {
   "display_name": "Python 3",
   "language": "python",
   "name": "python3"
  },
  "language_info": {
   "codemirror_mode": {
    "name": "ipython",
    "version": 3
   },
   "file_extension": ".py",
   "mimetype": "text/x-python",
   "name": "python",
   "nbconvert_exporter": "python",
   "pygments_lexer": "ipython3",
   "version": "3.12.2"
  }
 },
 "nbformat": 4,
 "nbformat_minor": 2
}
