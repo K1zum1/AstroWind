{
 "cells": [
  {
   "cell_type": "code",
   "execution_count": 74,
   "id": "69763785",
   "metadata": {},
   "outputs": [
    {
     "name": "stdout",
     "output_type": "stream",
     "text": [
      "Wind density has been computed and saved to wind_density_output.csv\n",
      "Wind velocity has been computed and saved to  wind_output.csv\n",
      "Wind temperature has been computed and saved to  temp0_output.csv\n",
      "The simulation has been successfully executed and the results have been saved.\n"
     ]
    }
   ],
   "source": [
    "import numpy as np\n",
    "from parameters import *\n",
    "\n",
    "# Function to create a coordinate system\n",
    "def xyz(d):\n",
    "    limsx, limsy, limsz = 64, 64, 64\n",
    "    x_values = np.linspace(-limsx, limsx, nx) * AU\n",
    "    y_values = np.linspace(-limsy, limsy, ny) * AU\n",
    "    z_values = np.linspace(-limsz, limsz, nz) * AU\n",
    "\n",
    "    x_values = x_values[x_values != 0]\n",
    "    y_values = y_values[y_values != 0]\n",
    "    z_values = z_values[z_values != 0]\n",
    "\n",
    "    X, Y, Z = np.meshgrid(x_values, y_values, z_values, indexing=\"ij\")\n",
    "\n",
    "    R_plane = np.sqrt(X**2 + Y**2)\n",
    "    R_values = np.sqrt(X**2 + Y**2 + Z**2)\n",
    "\n",
    "    r_base = R_plane * np.abs(d) / (np.abs(d) + np.abs(z_values))\n",
    "\n",
    "    return x_values, y_values, z_values, R_values, R_plane, r_base, X, Y, Z\n",
    "\n",
    "# Function to calculate the angle\n",
    "def calculate_angle(R_plane, z_values):\n",
    "    delta = (np.pi / 2) - np.arctan(z_values / R_plane)\n",
    "    return delta\n",
    "\n",
    "# Function to calculate the poloidal velocity\n",
    "def calculate_vp(d, GM_star, lmbda, r_base):\n",
    "    # Calculate the factor used in the velocity equation\n",
    "    factor = (2 * lmbda - 3)\n",
    "    # Check if the factor is less than 0, which would cause a math error\n",
    "    if factor < 0:\n",
    "        raise ValueError(\"Invalid value of lambda causing sqrt of negative number\")\n",
    "    # Calculate the poloidal velocity\n",
    "    vp = (np.sqrt(factor) * np.sqrt(GM_star)) / np.sqrt(r_base)\n",
    "    return vp\n",
    "\n",
    "def wind_density(x_values, y_values, z_values, delta):\n",
    "    abs_cos_delta = np.abs(np.cos(delta))\n",
    "    vals = np.full((nx, ny, nz), 0)\n",
    "    min_val = 0.73\n",
    "    max_val = 0.75\n",
    "    for i in range(0, nx):\n",
    "        for j in range(0, ny):\n",
    "                for k in range(0, nz):\n",
    "                        if ((abs_cos_delta[i,j,k] <= max_val) and (abs_cos_delta[i,j,k] >= min_val)):\n",
    "                                vals[i,j,k] = 1e6\n",
    "    vals = vals*(2.3e-24)\n",
    "    return vals\n",
    "\n",
    "# Main Execution\n",
    "try:\n",
    "    # Call all the functions to calculate the wind density\n",
    "    x_values, y_values, z_values, R_values, R_plane, r_base, X, Y, Z = xyz(d)\n",
    "    vp_wi_l = calculate_vp(d, GM_star, lmbda, r_base)\n",
    "    delta = calculate_angle(R_plane, z_values)\n",
    "    density = wind_density(x_values, y_values, z_values, delta)\n",
    "\n",
    "    # Save the results to CSV files\n",
    "    density_flattened = density.flatten()\n",
    "    np.savetxt(\"wind_density_output.csv\", density_flattened, delimiter=\",\", header=\"Density\", comments=\"\")\n",
    "    print(\"Wind density has been computed and saved to wind_density_output.csv\")\n",
    "    \n",
    "    vp_flat = vp_wi_l.flatten()\n",
    "    np.savetxt(\"wind_velocity_output.csv\", vp_flat, delimiter=\",\", header=\"Velocity\", comments=\"\")\n",
    "    print(\"Wind velocity has been computed and saved to  wind_output.csv\")\n",
    "    \n",
    "    array_size = nx*ny*nz\n",
    "    temp0_array = np.full((array_size,), temp0)\n",
    "    np.savetxt(\"temp0_output.csv\", temp0_array, delimiter=\",\", header=\"Temp0\", comments=\"\")\n",
    "    print(\"Wind temperature has been computed and saved to  temp0_output.csv\")\n",
    "    \n",
    "    print(\"The simulation has been successfully executed and the results have been saved.\")    \n",
    "except Exception as e:\n",
    "    print(\"An error occurred during the simulation:\", str(e))"
   ]
  },
  {
   "cell_type": "code",
   "execution_count": 138,
   "id": "6dc4cd4c-52cc-45da-9090-3c79451372c7",
   "metadata": {},
   "outputs": [],
   "source": [
    "def wind_density(x_values, y_values, z_values, delta):\n",
    "    abs_cos_delta = np.abs(np.cos(delta))\n",
    "    vals = np.full((nx, ny, nz), 0)\n",
    "    min_val = 0.73\n",
    "    max_val = 0.75\n",
    "    for i in range(0, nx):\n",
    "        for j in range(0, ny):\n",
    "                for k in range(0, nz):\n",
    "                        if ((abs_cos_delta[i,j,k] <= max_val) and (abs_cos_delta[i,j,k] >= min_val)):\n",
    "                                vals[i,j,k] = 1e6\n",
    "    vals = vals*(2.3e-24)\n",
    "    return vals\n",
    "density = wind_density(x_values, y_values, z_values, delta)"
   ]
  },
  {
   "cell_type": "code",
   "execution_count": 149,
   "id": "6d8254eb-e6ed-4601-8df4-4cdc2fdcbc06",
   "metadata": {},
   "outputs": [
    {
     "name": "stdout",
     "output_type": "stream",
     "text": [
      "(64,)\n",
      "Wind density has been computed and saved to wind_density_output.csv\n",
      "Wind velocity has been computed and saved to  wind_output.csv\n",
      "Wind temperature has been computed and saved to  temp0_output.csv\n",
      "The simulation has been successfully executed and the results have been saved.\n"
     ]
    }
   ],
   "source": [
    "from parameters import *\n",
    "%run master.py"
   ]
  },
  {
   "cell_type": "code",
   "execution_count": 148,
   "id": "06d56a5e-33bf-4cde-a0f5-7f3f1372096d",
   "metadata": {},
   "outputs": [
    {
     "data": {
      "text/plain": [
       "(64,)"
      ]
     },
     "execution_count": 148,
     "metadata": {},
     "output_type": "execute_result"
    }
   ],
   "source": [
    "xc.shape"
   ]
  },
  {
   "cell_type": "code",
   "execution_count": 146,
   "id": "3c79f09b-00f0-4d20-8f5b-ec2ab177dbf9",
   "metadata": {},
   "outputs": [
    {
     "ename": "IndexError",
     "evalue": "index 64 is out of bounds for axis 2 with size 64",
     "output_type": "error",
     "traceback": [
      "\u001b[0;31m---------------------------------------------------------------------------\u001b[0m",
      "\u001b[0;31mIndexError\u001b[0m                                Traceback (most recent call last)",
      "Cell \u001b[0;32mIn[146], line 1\u001b[0m\n\u001b[0;32m----> 1\u001b[0m plt\u001b[38;5;241m.\u001b[39mcontour(xc, yc, \u001b[43mdensity\u001b[49m\u001b[43m[\u001b[49m\u001b[43m:\u001b[49m\u001b[43m,\u001b[49m\u001b[43m:\u001b[49m\u001b[43m,\u001b[49m\u001b[38;5;241;43m64\u001b[39;49m\u001b[43m]\u001b[49m)\n\u001b[1;32m      2\u001b[0m plt\u001b[38;5;241m.\u001b[39mshow()\n",
      "\u001b[0;31mIndexError\u001b[0m: index 64 is out of bounds for axis 2 with size 64"
     ]
    }
   ],
   "source": [
    "plt.contour(xc, yc, density[:,:,64])\n",
    "plt.show()"
   ]
  },
  {
   "cell_type": "code",
   "execution_count": null,
   "id": "87647039-942e-4ed1-95c3-a962893bf28e",
   "metadata": {},
   "outputs": [],
   "source": []
  }
 ],
 "metadata": {
  "kernelspec": {
   "display_name": "Python 3 (ipykernel)",
   "language": "python",
   "name": "python3"
  },
  "language_info": {
   "codemirror_mode": {
    "name": "ipython",
    "version": 3
   },
   "file_extension": ".py",
   "mimetype": "text/x-python",
   "name": "python",
   "nbconvert_exporter": "python",
   "pygments_lexer": "ipython3",
   "version": "3.10.12"
  }
 },
 "nbformat": 4,
 "nbformat_minor": 5
}
