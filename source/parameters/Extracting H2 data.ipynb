{
 "cells": [
  {
   "cell_type": "code",
   "execution_count": null,
   "id": "231308dc",
   "metadata": {},
   "outputs": [],
   "source": [
    "import numpy as np\n",
    "import re\n",
    "import urllib.request\n",
    "from pprint import pprint\n",
    "from html_table_parser.parser import HTMLTableParser\n",
    "import pandas as pd\n",
    "import math"
   ]
  },
  {
   "cell_type": "code",
   "execution_count": null,
   "id": "559fe071",
   "metadata": {
    "scrolled": true
   },
   "outputs": [],
   "source": [
    "# scraping data from Gemini Observatory website\n",
    "def url_get_contents(url):\n",
    "    req = urllib.request.Request(url=url)\n",
    "    f=urllib.request.urlopen(req)\n",
    "    return f.read()\n",
    "xhtml = url_get_contents('https://www.gemini.edu/observing/resources/near-ir-resources/spectroscopy/important-h2-lines').decode('utf-8')\n",
    "p=HTMLTableParser()\n",
    "p.feed(xhtml)\n",
    "data =(p.tables[0])\n",
    "data = data[2:]"
   ]
  },
  {
   "cell_type": "code",
   "execution_count": null,
   "id": "64d681a5",
   "metadata": {
    "scrolled": false
   },
   "outputs": [],
   "source": [
    "# sifting through weird formatting from website and converting numbers to floats\n",
    "rows = []\n",
    "for i in range(0, len(data)):\n",
    "    if data[i] != ['']:\n",
    "        row = [data[i][0]]\n",
    "        for j in range(1, len(data[i])):\n",
    "            if data[i][j] == '' or data[i][j] == '.':\n",
    "                row.append(np.nan)\n",
    "            else:\n",
    "                row.append(float(data[i][j]))\n",
    "        rows.append(row)\n",
    "data = rows\n",
    "\n",
    "# defining a dataframe with all the data\n",
    "dictionary = {'Lines':[vals[0] for vals in data],\n",
    "              'Wavel, um':[vals[1] for vals in data],\n",
    "              'Freq, cm^-1':[vals[2] for vals in data],\n",
    "              'g_J, upper':[vals[3] for vals in data],\n",
    "              'Temp, K':[vals[4] for vals in data],\n",
    "              'A_vals, e-7 s':[vals[5] for vals in data],\n",
    "              'LTE_vals':[vals[6] for vals in data]}\n",
    "data = pd.DataFrame(data=dictionary)"
   ]
  },
  {
   "cell_type": "code",
   "execution_count": null,
   "id": "5ca28f9c",
   "metadata": {},
   "outputs": [],
   "source": [
    "# functions to calculate values required by RADMC in the necessary units\n",
    "h = 6.62607015e-34 #Joule seconds\n",
    "kb = 1.380649e-23 # Joules/Kelvin\n",
    "c = 3e8 #m/s\n",
    "def energies_invcm(wavel, temp):\n",
    "    E_up_J = kb*float(temp)\n",
    "    delta_E = h*c/(float(wavel)*1e-6) #Joules\n",
    "    E_lo_J = E_up_J - delta_E\n",
    "    E_lower = E_lo_J/(h*c)\n",
    "    E_upper = E_up_J/(h*c)\n",
    "    return E_lower, E_upper\n",
    "\n",
    "def g_vals(string):\n",
    "    if 'S' in data['Lines'][i]:\n",
    "        delta_j = 2\n",
    "    elif 'Q' in data['Lines'][i]:\n",
    "        delta_j = 0\n",
    "    elif 'O' in data['Lines'][i]:\n",
    "        delta_j =-2\n",
    "        \n",
    "    characters = [x for x in string]\n",
    "    num = np.nan\n",
    "    if len(characters) == 8:\n",
    "        num = float(characters[6])\n",
    "    if len(characters) == 9:\n",
    "        num = float((characters[6]+characters[7]))\n",
    "        \n",
    "    vib_state = num\n",
    "    if (vib_state % 2) == 0:\n",
    "        nuclear_weight = 1\n",
    "    else:\n",
    "        nuclear_weight = 3\n",
    "    \n",
    "    lower_g = (nuclear_weight*((2*vib_state)+1))\n",
    "    upper_g = (nuclear_weight*((2*(vib_state+delta_j))+1))\n",
    "    return lower_g, upper_g"
   ]
  },
  {
   "cell_type": "code",
   "execution_count": null,
   "id": "bd44b7ed",
   "metadata": {},
   "outputs": [],
   "source": [
    "# get rid of any lines without all necessary information and make new dataframe\n",
    "Lambda, Aud, E_lo, E_up, g_lo, g_up = [], [], [], [], [], []\n",
    "for i in range(0, len(data)):\n",
    "    if math.isnan(data['A_vals, e-7 s'][i]) == False:\n",
    "        Lambda.append(data['Wavel, um'][i])\n",
    "\n",
    "        val = data['A_vals, e-7 s'][i]\n",
    "        Aud.append((val*(10**-7)))\n",
    "        \n",
    "        E_lower, E_upper = energies_invcm(data['Wavel, um'][i], data['Temp, K'][i])\n",
    "        E_lo.append(round(E_lower,6)) # cm^-1\n",
    "        E_up.append(round(E_upper, 6)) # cm^-1\n",
    "        \n",
    "        lo, up = g_vals(data['Lines'][i])\n",
    "        g_lo.append(lo)\n",
    "        g_up.append(up)\n",
    "ID = [i+1 for i in range(0, len(Lambda))]\n",
    "\n",
    "dictionary = {'ID':ID, 'Lambda [mic]':Lambda, 'Aud [sec^-1]':Aud, 'E_lo [cm^-1]':E_lo, 'E_up [cm^-1]':E_up, \n",
    "              'g_lo':g_lo, 'g_up':g_up}\n",
    "h2_data = pd.DataFrame(dictionary)"
   ]
  },
  {
   "cell_type": "code",
   "execution_count": null,
   "id": "8814ed70",
   "metadata": {
    "scrolled": false
   },
   "outputs": [],
   "source": [
    "print(h2_data.to_string(index=False)) #copy paste for convenient formatting into linelist_XXX.inp file"
   ]
  },
  {
   "cell_type": "code",
   "execution_count": null,
   "id": "0fdc10c5",
   "metadata": {},
   "outputs": [],
   "source": [
    "# calculating partition function as a function of temperature\n",
    "def energy_J(energy_cm): # convert energy from radmc units (cm^-1) back to Joules\n",
    "    return energy_cm*h*c\n",
    "\n",
    "E_lo_J = [energy_J(h2_data['E_lo [cm^-1]'][i]) for i in range(0, len(h2_data))]\n",
    "E_up_J = [energy_J(h2_data['E_up [cm^-1]'][i]) for i in range(0, len(h2_data))]\n",
    "g_lo = h2_data['g_lo']\n",
    "g_up = h2_data['g_up']\n",
    "\n",
    "def partition(lo_E, up_E, lo_g, up_g, temp):\n",
    "    Z = (lo_g*math.exp(-lo_E/(kb*temp)))+(up_g*math.exp(-up_E/(kb*temp)))\n",
    "    return Z\n",
    "\n",
    "part_sum = []\n",
    "for temperature in np.linspace(5, 5000, 500):\n",
    "    z=0\n",
    "    for i in range(0, len(h2_data)):\n",
    "        z+=(partition(E_lo_J[i], E_up_J[i], g_lo[i], g_up[i], temperature))\n",
    "    part_sum.append(z)"
   ]
  },
  {
   "cell_type": "code",
   "execution_count": null,
   "id": "fcac0f90",
   "metadata": {
    "scrolled": false
   },
   "outputs": [],
   "source": [
    "part_sum_df = pd.DataFrame(data={\"Temp [K]\":np.linspace(5, 5000, 500), \"PartSum\":part_sum})\n",
    "#print(part_sum_df.to_string(index=True))"
   ]
  },
  {
   "cell_type": "code",
   "execution_count": null,
   "id": "7ca53207",
   "metadata": {},
   "outputs": [],
   "source": [
    "for i in range(0, len(data)):\n",
    "    print(data['Lines'][i], data['Temp, K'][i])"
   ]
  },
  {
   "cell_type": "code",
   "execution_count": null,
   "id": "c67974dc",
   "metadata": {},
   "outputs": [],
   "source": [
    "def lower_temp(upper_temp, wave):\n",
    "    E_up_J = kb*float(upper_temp)\n",
    "    delta_E = h*c/(float(wave)*1e-6) #Joules\n",
    "    E_lo_J = E_up_J - delta_E\n",
    "    return E_lo_J/kb\n",
    "\n",
    "def energies(wavel, temp):\n",
    "    E_up_J = kb*float(temp)\n",
    "    delta_E = h*c/(float(wavel)*1e-6) #Joules\n",
    "    E_lo_J = E_up_J - delta_E\n",
    "    return E_lo_J"
   ]
  },
  {
   "cell_type": "code",
   "execution_count": null,
   "id": "e651a053",
   "metadata": {},
   "outputs": [],
   "source": [
    "lower_temp(1015, 17.0340)"
   ]
  },
  {
   "cell_type": "code",
   "execution_count": null,
   "id": "93a66c34",
   "metadata": {},
   "outputs": [],
   "source": []
  }
 ],
 "metadata": {
  "kernelspec": {
   "display_name": "Python 3 (ipykernel)",
   "language": "python",
   "name": "python3"
  },
  "language_info": {
   "codemirror_mode": {
    "name": "ipython",
    "version": 3
   },
   "file_extension": ".py",
   "mimetype": "text/x-python",
   "name": "python",
   "nbconvert_exporter": "python",
   "pygments_lexer": "ipython3",
   "version": "3.10.12"
  }
 },
 "nbformat": 4,
 "nbformat_minor": 5
}
