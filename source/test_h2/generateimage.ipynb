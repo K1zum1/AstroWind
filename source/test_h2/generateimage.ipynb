{
 "cells": [
  {
   "cell_type": "code",
   "execution_count": 6,
   "id": "5fd0c22e",
   "metadata": {},
   "outputs": [
    {
     "name": "stderr",
     "output_type": "stream",
     "text": [
      "/home/reu24/.local/lib/python3.10/site-packages/matplotlib/projections/__init__.py:63: UserWarning: Unable to import Axes3D. This may be due to multiple versions of Matplotlib being installed (e.g. as a system package and as a pip package). As a result, the 3D projection is not available.\n",
      "  warnings.warn(\"Unable to import Axes3D. This may be due to multiple versions of \"\n"
     ]
    }
   ],
   "source": [
    "import matplotlib\n",
    "from radmc3dPy.image import *\n",
    "import matplotlib.pyplot as plt\n",
    "from matplotlib import cm\n",
    "import matplotlib.pylab as plb"
   ]
  },
  {
   "cell_type": "code",
   "execution_count": 19,
   "id": "caf2d271",
   "metadata": {},
   "outputs": [],
   "source": [
    "def plotImage2(image=None, flux=0, arcsec=False, au=False, log=False, dpc=None, maxlog=None, saturate=None, bunit='norm', \\\n",
    "        ifreq=0, cmask_rad=None, interpolation='nearest', cmap=plb.cm.gist_gray, stokes='I', **kwargs):\n",
    "    pc   = 3.08572e18\n",
    "# Check whether or not we need to mask the image\n",
    "    dum_image = copy.deepcopy(image)\n",
    "    if dum_image.stokes:\n",
    "        if stokes.strip().upper()=='I':\n",
    "            if dum_image.nwav==1:\n",
    "                dum_image.image = image.image[:,:,0]\n",
    "            else:\n",
    "                dum_image.image = image.image[:,:,0,:]\n",
    "\n",
    "        if stokes.strip().upper()=='Q':\n",
    "            if dum_image.nwav==1:\n",
    "                dum_image.image = image.image[:,:,1]\n",
    "            else:\n",
    "                dum_image.image = image.image[:,:,1,:]\n",
    "\n",
    "        if stokes.strip().upper()=='U':\n",
    "            if dum_image.nwav==1:\n",
    "                dum_image.image = image.image[:,:,2]\n",
    "            else:\n",
    "                dum_image.image = image.image[:,:,2,:]\n",
    "        if stokes.strip().upper()=='V':\n",
    "            if dum_image.nwav==1:\n",
    "                dum_image.image = image.image[:,:,2]\n",
    "            else:\n",
    "                dum_image.image = image.image[:,:,2,:]\n",
    "        if stokes.strip().upper()=='PI':\n",
    "            if dum_image.nwav==1:\n",
    "                dum_image.image = np.sqrt(image.image[:,:,1]**2 + image.image[:,:,2]**2)\n",
    "            else:\n",
    "                dum_image.image = np.sqrt(image.image[:,:,1,:]**2 + image.image[:,:,2,:]**2)\n",
    "    if cmask_rad!=None:\n",
    "        dum_image = cmask(dum_image, rad=cmask_rad, au=au, arcsec=arcsec, dpc=dpc)\n",
    "    else:\n",
    "        dum_image = dum_image\n",
    "    if (ifreq==None):\n",
    "        ifreq = 0\n",
    "    #data = np.squeeze(dum_image.image[::-1,:,ifreq])\n",
    "    data = np.squeeze(dum_image.image[:,::-1,ifreq].T)\n",
    "    #if (image.nfreq>1):\n",
    "        #if (ifreq==None):\n",
    "            #ifreq = 0\n",
    "        #data = squeeze(dum_image.image[::-1,:,ifreq])\n",
    "    #else:\n",
    "        #data = dum_image.image[::-1,:]\n",
    "    norm  = data.max()\n",
    "    if (bunit=='norm'):\n",
    "        data = data/norm\n",
    "\n",
    "    clipnorm = data.max()\n",
    "# Check if the data should be plotted on a log scale\n",
    "    if log:\n",
    "        clipmin = np.log10(data[data>0.].min())\n",
    "        data = np.log10(data.clip(1e-90))\n",
    "# Clipping the data\n",
    "        if (maxlog!=None):\n",
    "            clipmin = -maxlog + np.log10(clipnorm)\n",
    "    else:\n",
    "        clipmin  = data.min()\n",
    "    if (saturate!=None):\n",
    "        if (saturate>1.):\n",
    "            saturate = 1.0\n",
    "        if log:\n",
    "            clipmax = np.log10(saturate) + np.log10(clipnorm)\n",
    "        else:\n",
    "            clipmax = clipnorm * saturate\n",
    "    else:\n",
    "        clipmax = clipnorm\n",
    "    data = data.clip(clipmin, clipmax)\n",
    "# Select the unit of the data\n",
    "    if (bunit=='norm'):\n",
    "        if log:\n",
    "            cb_label = 'log(I'+r'$_\\nu$'+'/max(I'+r'$_\\nu$'+'))'\n",
    "        else:\n",
    "            cb_label = 'I'+r'$_\\nu$'+'/max(I'+r'$_\\nu$'+')'\n",
    "    elif (bunit=='inu'):\n",
    "        if log:\n",
    "            cb_label = 'log(I'+r'$_\\nu$'+' [erg/s/cm/cm/Hz/ster])'\n",
    "        else:\n",
    "            cb_label = 'I'+r'$_\\nu$'+' [erg/s/cm/cm/Hz/ster]'\n",
    "    elif (bunit=='snu'):\n",
    "        if dpc==None:\n",
    "            print('ERROR')\n",
    "            print(' If Jy/pixel is selected for the image unit the dpc keyword should also be set')\n",
    "            return\n",
    "        else:\n",
    "            if log:\n",
    "                if len(image.fwhm)>0:\n",
    "                    data    = data + np.log10(1e23)\n",
    "                    cb_label = 'log(S'+r'$_\\nu$'+ '[Jy/beam])'\n",
    "                else:\n",
    "                    data    = data + np.log10(image.sizepix_x * image.sizepix_y / (dpc*pc)**2. * 1e23)\n",
    "                    cb_label = 'log(S'+r'$_\\nu$'+ '[Jy/pixel])'\n",
    "            else:\n",
    "                if len(image.fwhm)>0:\n",
    "                    data    = data * 1e23\n",
    "                    cb_label = 'S'+r'$_\\nu$'+' [Jy/beam]'\n",
    "                else:\n",
    "                    data    = data * (image.sizepix_x * image.sizepix_y / (dpc*pc)**2. * 1e23)\n",
    "                    cb_label = 'S'+r'$_\\nu$'+' [Jy/pixel]'\n",
    "    else:\n",
    "        print('ERROR')\n",
    "        print('Unknown image unit : '+bunit)\n",
    "        return\n",
    "# Set the color bar boundaries\n",
    "    if log:\n",
    "        cb_bound = (data.max(), data.min())\n",
    "    else:\n",
    "        cb_bound = (data.min(), data.max())\n",
    "# Select the coordinates of the data\n",
    "    if au:\n",
    "        x = image.x/1.496e13\n",
    "        y = image.y/1.496e13\n",
    "        xlab = 'X [AU]'\n",
    "        ylab = 'Y [AU]'\n",
    "    elif arcsec:\n",
    "        x = image.x/1.496e13/dpc\n",
    "        y = image.y/1.496e13/dpc\n",
    "        xlab = 'RA offset [\"]'\n",
    "        ylab = 'DEC offset [\"]'\n",
    "    else:\n",
    "        x = image.x\n",
    "        y = image.y\n",
    "        xlab = 'X [cm]'\n",
    "        ylab = 'Y [cm]'\n",
    "    ext = (x[0], x[image.nx-1], y[0], y[image.ny-1])\n",
    "# Now finally put everything together and plot the data\n",
    "    plb.delaxes()\n",
    "    plb.delaxes()\n",
    "    #if (cmap==None):\n",
    "        #cmap = cm.gist_gray\n",
    "#    implot = imshow(data, extent=ext, cmap=cm.gist_gray)\n",
    "    implot = plb.imshow(data, extent=ext, cmap=cmap, interpolation=interpolation, **kwargs)\n",
    "    plb.xlabel(xlab)\n",
    "    plb.ylabel(ylab)\n",
    "    plb.title(r'$\\lambda$='+(\"%.5f\"%image.wav[ifreq])+r'$\\mu$m, F='+str(flux)+'Jy')\n",
    "    cbar = plb.colorbar(implot)\n",
    "    cbar.set_label(cb_label)\n",
    "    plb.show()\n",
    "    return {'implot':implot, 'cbar':cbar}"
   ]
  },
  {
   "cell_type": "code",
   "execution_count": 23,
   "id": "7e51fb73-0b73-403b-8ba4-4db12169d96e",
   "metadata": {
    "scrolled": false
   },
   "outputs": [
    {
     "name": "stdout",
     "output_type": "stream",
     "text": [
      "Reading image.out\n"
     ]
    },
    {
     "data": {
      "image/png": "[encoded data removed]",
      "text/plain": [
       "<Figure size 576x576 with 2 Axes>"
      ]
     },
     "metadata": {
      "needs_background": "light"
     },
     "output_type": "display_data"
    }
   ],
   "source": [
    "distance = 140 #pc\n",
    "\n",
    "fig1=plt.figure(figsize=(8,8))\n",
    "plt.ioff()\n",
    "\n",
    "img = readImage() \n",
    "\n",
    "im_nx, im_ny = img.nx, img.ny # number of pixels on each axis\n",
    "pixsize_x, pixsize_y = img.sizepix_x, img.sizepix_y # pixel sizes in cm (radians?)\n",
    "dA = (pixsize_x * pixsize_y)/((distance*3.086e18)**2) # size of each pixel in steradians\n",
    "\n",
    "image_data = img.image.flatten()\n",
    "total_flux = np.sum(image_data)*dA*1e23 #summed intensity converted to flux in Jy    \n",
    "    \n",
    "result = plotImage2(img, flux=total_flux, log=True, maxlog=15, cmap=cm.hot, bunit='snu', dpc=distance, arcsec=True)\n",
    "\n",
    "plt.savefig('output.png')\n",
    "plt.close()"
   ]
  },
  {
   "cell_type": "code",
   "execution_count": 99,
   "id": "6f705d2d",
   "metadata": {},
   "outputs": [
    {
     "data": {
      "text/plain": [
       "0.10147783251231526"
      ]
     },
     "execution_count": 99,
     "metadata": {},
     "output_type": "execute_result"
    }
   ],
   "source": [
    "(pixsize_x/1.496E13)/(distance)"
   ]
  },
  {
   "cell_type": "code",
   "execution_count": null,
   "id": "e8f0be09",
   "metadata": {},
   "outputs": [],
   "source": []
  }
 ],
 "metadata": {
  "kernelspec": {
   "display_name": "Python 3 (ipykernel)",
   "language": "python",
   "name": "python3"
  },
  "language_info": {
   "codemirror_mode": {
    "name": "ipython",
    "version": 3
   },
   "file_extension": ".py",
   "mimetype": "text/x-python",
   "name": "python",
   "nbconvert_exporter": "python",
   "pygments_lexer": "ipython3",
   "version": "3.10.12"
  }
 },
 "nbformat": 4,
 "nbformat_minor": 5
}
