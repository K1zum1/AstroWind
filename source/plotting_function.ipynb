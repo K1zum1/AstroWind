{
 "cells": [
  {
   "cell_type": "code",
   "execution_count": 1,
   "metadata": {},
   "outputs": [
    {
     "ename": "ImportError",
     "evalue": "attempted relative import with no known parent package",
     "output_type": "error",
     "traceback": [
      "\u001b[1;31m---------------------------------------------------------------------------\u001b[0m",
      "\u001b[1;31mImportError\u001b[0m                               Traceback (most recent call last)",
      "Cell \u001b[1;32mIn[1], line 3\u001b[0m\n\u001b[0;32m      1\u001b[0m \u001b[38;5;28;01mimport\u001b[39;00m \u001b[38;5;21;01mnumpy\u001b[39;00m \u001b[38;5;28;01mas\u001b[39;00m \u001b[38;5;21;01mnp\u001b[39;00m\n\u001b[0;32m      2\u001b[0m \u001b[38;5;28;01mimport\u001b[39;00m \u001b[38;5;21;01mmatplotlib\u001b[39;00m\u001b[38;5;21;01m.\u001b[39;00m\u001b[38;5;21;01mpyplot\u001b[39;00m \u001b[38;5;28;01mas\u001b[39;00m \u001b[38;5;21;01mplt\u001b[39;00m\n\u001b[1;32m----> 3\u001b[0m \u001b[38;5;28;01mfrom\u001b[39;00m \u001b[38;5;21;01mwind_density\u001b[39;00m \u001b[38;5;28;01mimport\u001b[39;00m wind_density\n\u001b[0;32m      5\u001b[0m density \u001b[38;5;241m=\u001b[39m wind_density()\n\u001b[0;32m      7\u001b[0m \u001b[38;5;28;01mdef\u001b[39;00m \u001b[38;5;21mplot_heatmap_with_wind_density\u001b[39m(x_range\u001b[38;5;241m=\u001b[39m(\u001b[38;5;241m0\u001b[39m, \u001b[38;5;241m64\u001b[39m), y_range\u001b[38;5;241m=\u001b[39m(\u001b[38;5;241m0\u001b[39m, \u001b[38;5;241m64\u001b[39m)):\n",
      "File \u001b[1;32mc:\\Users\\jchon\\OneDrive\\Desktop\\Disc Wind Density Program\\source\\wind_density.py:1\u001b[0m\n\u001b[1;32m----> 1\u001b[0m \u001b[38;5;28;01mfrom\u001b[39;00m \u001b[38;5;21;01m.\u001b[39;00m\u001b[38;5;21;01mparameters\u001b[39;00m\u001b[38;5;21;01m.\u001b[39;00m\u001b[38;5;21;01mmass_loss\u001b[39;00m \u001b[38;5;28;01mimport\u001b[39;00m calculate_mass_loss_rate\n\u001b[0;32m      2\u001b[0m \u001b[38;5;28;01mfrom\u001b[39;00m \u001b[38;5;21;01m.\u001b[39;00m\u001b[38;5;21;01mparameters\u001b[39;00m\u001b[38;5;21;01m.\u001b[39;00m\u001b[38;5;21;01mangle\u001b[39;00m \u001b[38;5;28;01mimport\u001b[39;00m calculate_angle\n\u001b[0;32m      3\u001b[0m \u001b[38;5;28;01mfrom\u001b[39;00m \u001b[38;5;21;01m.\u001b[39;00m\u001b[38;5;21;01mparameters\u001b[39;00m\u001b[38;5;21;01m.\u001b[39;00m\u001b[38;5;21;01mwind_velocity\u001b[39;00m \u001b[38;5;28;01mimport\u001b[39;00m calculate_wind_velocity\n",
      "\u001b[1;31mImportError\u001b[0m: attempted relative import with no known parent package"
     ]
    }
   ],
   "source": [
    "import numpy as np\n",
    "import matplotlib.pyplot as plt\n",
    "from wind_density import wind_density\n",
    "\n",
    "density = wind_density()\n",
    "\n",
    "def plot_heatmap_with_wind_density(x_range=(0, 64), y_range=(0, 64)):\n",
    "    m1 = 1.4\n",
    "    m2 = 0.8\n",
    "    c1 = -5\n",
    "    c2 = -5\n",
    "    x = np.linspace(x_range[0], x_range[1], 400)\n",
    "    y = np.linspace(y_range[0], y_range[1], 400)\n",
    "    X, Y = np.meshgrid(x, y)\n",
    "    \n",
    "   \n",
    "    Y1 = m1 * X + c1\n",
    "    Y2 = m2 * X + c2\n",
    "    \n",
    "    \n",
    "    inside_boundary = (Y >= np.minimum(Y1, Y2)) & (Y <= np.maximum(Y1, Y2))\n",
    "    \n",
    "    \n",
    "    epsilon = 1e-10  \n",
    "    intensity = ...\n",
    "    \n",
    "    \n",
    "    outside_value = 0  \n",
    "    intensity_masked = np.where(inside_boundary, intensity, outside_value)\n",
    "\n",
    "    \n",
    "    plt.imshow(intensity_masked, extent=(x.min(), x.max(), y.min(), y.max()), origin='lower', cmap='coolwarm', alpha=1)\n",
    "    \n",
    "   \n",
    "    plt.plot(x, m1*x + c1, label=f'Line 1: y = {m1}x + {c1}', color='blue')\n",
    "    plt.plot(x, m2*x + c2, label=f'Line 2: y = {m2}x + {c2}', color='red')\n",
    "\n",
    "    plt.xlabel('x')\n",
    "    plt.ylabel('y')\n",
    "    plt.legend()\n",
    "    plt.grid(True)\n",
    "    plt.xlim(x_range)\n",
    "    plt.ylim(y_range)\n",
    "    plt.colorbar(label='Intensity based on values')\n",
    "    plt.show()\n",
    "\n",
    "plot_heatmap_with_wind_density()"
   ]
  }
 ],
 "metadata": {
  "kernelspec": {
   "display_name": "Python 3",
   "language": "python",
   "name": "python3"
  },
  "language_info": {
   "codemirror_mode": {
    "name": "ipython",
    "version": 3
   },
   "file_extension": ".py",
   "mimetype": "text/x-python",
   "name": "python",
   "nbconvert_exporter": "python",
   "pygments_lexer": "ipython3",
   "version": "3.12.2"
  }
 },
 "nbformat": 4,
 "nbformat_minor": 2
}
